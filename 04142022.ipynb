{
  "nbformat": 4,
  "nbformat_minor": 0,
  "metadata": {
    "colab": {
      "name": "04142022.ipynb",
      "provenance": [],
      "authorship_tag": "ABX9TyMPoS0MgFvcyDRWgLaAsnQl",
      "include_colab_link": true
    },
    "kernelspec": {
      "name": "python3",
      "display_name": "Python 3"
    },
    "language_info": {
      "name": "python"
    }
  },
  "cells": [
    {
      "cell_type": "markdown",
      "metadata": {
        "id": "view-in-github",
        "colab_type": "text"
      },
      "source": [
        "<a href=\"https://colab.research.google.com/github/signnd/prak-ml/blob/main/04142022.ipynb\" target=\"_parent\"><img src=\"https://colab.research.google.com/assets/colab-badge.svg\" alt=\"Open In Colab\"/></a>"
      ]
    },
    {
      "cell_type": "code",
      "execution_count": null,
      "metadata": {
        "id": "4dNi7KmdNWBu"
      },
      "outputs": [],
      "source": [
        "nama = input('Input Nama: ')\n",
        "nim = input('Input NIM: ')\n",
        "prodi = input('Input Prodi: ')\n",
        "ig = input('Input IG: ')\n",
        "\n",
        "print(\"Hello Nama Saya \"+ nama + \", NIM: \" + nim + \", Prodi: \" + prodi +\", IG: \"+ ig)"
      ]
    },
    {
      "cell_type": "code",
      "source": [
        "nama = input('Input Nama: ')\n",
        "totalsks = int(input('Input Total SKS Lulus: '))\n",
        "nilai = int(input('Input Total Nilai: '))\n",
        "ipk = nilai/totalsks\n",
        "\n",
        "print(\"Nama Saya \"+ nama +\", Total SKS Lulus\",totalsks,\", Total Nilai\",nilai,\", IPK\", ipk)"
      ],
      "metadata": {
        "colab": {
          "base_uri": "https://localhost:8080/"
        },
        "id": "J3-MqiXfOsxR",
        "outputId": "ebfef0b8-4323-4713-f310-8bc81169809a"
      },
      "execution_count": null,
      "outputs": [
        {
          "output_type": "stream",
          "name": "stdout",
          "text": [
            "Input Nama: Ngurah\n",
            "Input Total SKS Lulus: 40\n",
            "Input Total Nilai: 160\n",
            "Nama Saya Ngurah, Total SKS Lulus  40 , Total Nilai  160 , IPK 4.0\n"
          ]
        }
      ]
    },
    {
      "cell_type": "code",
      "source": [
        "ipk = float(input('Input IPK: '))\n",
        "if (ipk >= 2.00) and (ipk <= 2.75):\n",
        "  kategori = 'Memuaskan'\n",
        "elif (ipk > 2.75) and (ipk <= 3.50):\n",
        "  kategori = 'Sangat Memuaskan'\n",
        "elif (ipk > 3.50) and (ipk <= 4.00):\n",
        "  kategori = 'Dengan Pujian'\n",
        "\n",
        "  print('Predikat:', kategori)"
      ],
      "metadata": {
        "colab": {
          "base_uri": "https://localhost:8080/"
        },
        "id": "4RiiKQqxRUje",
        "outputId": "b6061a0f-ad1f-4d18-acde-48afea3b729e"
      },
      "execution_count": null,
      "outputs": [
        {
          "output_type": "stream",
          "name": "stdout",
          "text": [
            "Input IPK: 4.0\n",
            "Predikat: Dengan Pujian\n"
          ]
        }
      ]
    }
  ]
}